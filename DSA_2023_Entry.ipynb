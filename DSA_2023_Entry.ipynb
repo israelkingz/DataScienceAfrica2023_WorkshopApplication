{
 "cells": [
  {
   "cell_type": "code",
   "execution_count": 1,
   "metadata": {},
   "outputs": [
    {
     "name": "stdout",
     "output_type": "stream",
     "text": [
      "Requirement already satisfied: nose in c:\\users\\owner\\anaconda3\\lib\\site-packages (1.3.7)\n",
      "Requirement already satisfied: otter-grader in c:\\users\\owner\\anaconda3\\lib\\site-packages (4.3.1)\n",
      "Requirement already satisfied: wrapt in c:\\users\\owner\\anaconda3\\lib\\site-packages (from otter-grader) (1.14.1)\n",
      "Requirement already satisfied: dill in c:\\users\\owner\\anaconda3\\lib\\site-packages (from otter-grader) (0.3.4)\n",
      "Requirement already satisfied: six in c:\\users\\owner\\anaconda3\\lib\\site-packages (from otter-grader) (1.16.0)\n",
      "Requirement already satisfied: click in c:\\users\\owner\\anaconda3\\lib\\site-packages (from otter-grader) (8.0.4)\n",
      "Requirement already satisfied: requests in c:\\users\\owner\\anaconda3\\lib\\site-packages (from otter-grader) (2.28.1)\n",
      "Requirement already satisfied: google-auth-oauthlib in c:\\users\\owner\\anaconda3\\lib\\site-packages (from otter-grader) (1.0.0)\n",
      "Requirement already satisfied: pandas in c:\\users\\owner\\anaconda3\\lib\\site-packages (from otter-grader) (1.4.4)\n",
      "Requirement already satisfied: ipython in c:\\users\\owner\\anaconda3\\lib\\site-packages (from otter-grader) (7.31.1)\n",
      "Requirement already satisfied: nbformat in c:\\users\\owner\\anaconda3\\lib\\site-packages (from otter-grader) (5.5.0)\n",
      "Requirement already satisfied: fica>=0.2.0 in c:\\users\\owner\\anaconda3\\lib\\site-packages (from otter-grader) (0.2.2)\n",
      "Requirement already satisfied: google-api-python-client in c:\\users\\owner\\anaconda3\\lib\\site-packages (from otter-grader) (2.81.0)\n",
      "Requirement already satisfied: jupytext in c:\\users\\owner\\anaconda3\\lib\\site-packages (from otter-grader) (1.14.5)\n",
      "Requirement already satisfied: jinja2 in c:\\users\\owner\\anaconda3\\lib\\site-packages (from otter-grader) (2.11.3)\n",
      "Requirement already satisfied: python-on-whales in c:\\users\\owner\\anaconda3\\lib\\site-packages (from otter-grader) (0.59.0)\n",
      "Requirement already satisfied: PyYAML in c:\\users\\owner\\anaconda3\\lib\\site-packages (from otter-grader) (6.0)\n",
      "Requirement already satisfied: docutils in c:\\users\\owner\\anaconda3\\lib\\site-packages (from fica>=0.2.0->otter-grader) (0.18.1)\n",
      "Requirement already satisfied: sphinx in c:\\users\\owner\\anaconda3\\lib\\site-packages (from fica>=0.2.0->otter-grader) (5.0.2)\n",
      "Requirement already satisfied: colorama in c:\\users\\owner\\anaconda3\\lib\\site-packages (from click->otter-grader) (0.4.6)\n",
      "Requirement already satisfied: httplib2<1dev,>=0.15.0 in c:\\users\\owner\\anaconda3\\lib\\site-packages (from google-api-python-client->otter-grader) (0.21.0)\n",
      "Requirement already satisfied: google-api-core!=2.0.*,!=2.1.*,!=2.2.*,!=2.3.0,<3.0.0dev,>=1.31.5 in c:\\users\\owner\\anaconda3\\lib\\site-packages (from google-api-python-client->otter-grader) (2.11.0)\n",
      "Requirement already satisfied: google-auth<3.0.0dev,>=1.19.0 in c:\\users\\owner\\anaconda3\\lib\\site-packages (from google-api-python-client->otter-grader) (2.16.2)\n",
      "Requirement already satisfied: google-auth-httplib2>=0.1.0 in c:\\users\\owner\\anaconda3\\lib\\site-packages (from google-api-python-client->otter-grader) (0.1.0)\n",
      "Requirement already satisfied: uritemplate<5,>=3.0.1 in c:\\users\\owner\\anaconda3\\lib\\site-packages (from google-api-python-client->otter-grader) (4.1.1)\n",
      "Requirement already satisfied: requests-oauthlib>=0.7.0 in c:\\users\\owner\\anaconda3\\lib\\site-packages (from google-auth-oauthlib->otter-grader) (1.3.1)\n",
      "Requirement already satisfied: pygments in c:\\users\\owner\\anaconda3\\lib\\site-packages (from ipython->otter-grader) (2.11.2)\n",
      "Requirement already satisfied: setuptools>=18.5 in c:\\users\\owner\\anaconda3\\lib\\site-packages (from ipython->otter-grader) (63.4.1)\n",
      "Requirement already satisfied: traitlets>=4.2 in c:\\users\\owner\\anaconda3\\lib\\site-packages (from ipython->otter-grader) (5.1.1)\n",
      "Requirement already satisfied: prompt-toolkit!=3.0.0,!=3.0.1,<3.1.0,>=2.0.0 in c:\\users\\owner\\anaconda3\\lib\\site-packages (from ipython->otter-grader) (3.0.20)\n",
      "Requirement already satisfied: decorator in c:\\users\\owner\\anaconda3\\lib\\site-packages (from ipython->otter-grader) (5.1.1)\n",
      "Requirement already satisfied: backcall in c:\\users\\owner\\anaconda3\\lib\\site-packages (from ipython->otter-grader) (0.2.0)\n",
      "Requirement already satisfied: pickleshare in c:\\users\\owner\\anaconda3\\lib\\site-packages (from ipython->otter-grader) (0.7.5)\n",
      "Requirement already satisfied: matplotlib-inline in c:\\users\\owner\\anaconda3\\lib\\site-packages (from ipython->otter-grader) (0.1.6)\n",
      "Requirement already satisfied: jedi>=0.16 in c:\\users\\owner\\anaconda3\\lib\\site-packages (from ipython->otter-grader) (0.18.1)\n",
      "Requirement already satisfied: MarkupSafe>=0.23 in c:\\users\\owner\\anaconda3\\lib\\site-packages (from jinja2->otter-grader) (2.0.1)\n",
      "Requirement already satisfied: toml in c:\\users\\owner\\anaconda3\\lib\\site-packages (from jupytext->otter-grader) (0.10.2)\n",
      "Requirement already satisfied: mdit-py-plugins in c:\\users\\owner\\anaconda3\\lib\\site-packages (from jupytext->otter-grader) (0.3.5)\n",
      "Requirement already satisfied: markdown-it-py<3.0.0,>=1.0.0 in c:\\users\\owner\\anaconda3\\lib\\site-packages (from jupytext->otter-grader) (2.2.0)\n",
      "Requirement already satisfied: jsonschema>=2.6 in c:\\users\\owner\\anaconda3\\lib\\site-packages (from nbformat->otter-grader) (4.16.0)\n",
      "Requirement already satisfied: fastjsonschema in c:\\users\\owner\\anaconda3\\lib\\site-packages (from nbformat->otter-grader) (2.16.2)\n",
      "Requirement already satisfied: jupyter_core in c:\\users\\owner\\anaconda3\\lib\\site-packages (from nbformat->otter-grader) (4.11.1)\n",
      "Requirement already satisfied: python-dateutil>=2.8.1 in c:\\users\\owner\\anaconda3\\lib\\site-packages (from pandas->otter-grader) (2.8.2)\n",
      "Requirement already satisfied: numpy>=1.18.5 in c:\\users\\owner\\anaconda3\\lib\\site-packages (from pandas->otter-grader) (1.21.5)\n",
      "Requirement already satisfied: pytz>=2020.1 in c:\\users\\owner\\anaconda3\\lib\\site-packages (from pandas->otter-grader) (2022.1)\n",
      "Requirement already satisfied: tqdm in c:\\users\\owner\\anaconda3\\lib\\site-packages (from python-on-whales->otter-grader) (4.64.1)\n",
      "Requirement already satisfied: typing-extensions in c:\\users\\owner\\anaconda3\\lib\\site-packages (from python-on-whales->otter-grader) (4.3.0)\n",
      "Requirement already satisfied: pydantic>=1.5 in c:\\users\\owner\\anaconda3\\lib\\site-packages (from python-on-whales->otter-grader) (1.10.4)\n",
      "Requirement already satisfied: typer>=0.4.1 in c:\\users\\owner\\anaconda3\\lib\\site-packages (from python-on-whales->otter-grader) (0.7.0)\n",
      "Requirement already satisfied: certifi>=2017.4.17 in c:\\users\\owner\\anaconda3\\lib\\site-packages (from requests->otter-grader) (2022.9.14)\n",
      "Requirement already satisfied: charset-normalizer<3,>=2 in c:\\users\\owner\\anaconda3\\lib\\site-packages (from requests->otter-grader) (2.0.4)\n",
      "Requirement already satisfied: idna<4,>=2.5 in c:\\users\\owner\\anaconda3\\lib\\site-packages (from requests->otter-grader) (3.3)\n",
      "Requirement already satisfied: urllib3<1.27,>=1.21.1 in c:\\users\\owner\\anaconda3\\lib\\site-packages (from requests->otter-grader) (1.26.11)\n",
      "Requirement already satisfied: googleapis-common-protos<2.0dev,>=1.56.2 in c:\\users\\owner\\anaconda3\\lib\\site-packages (from google-api-core!=2.0.*,!=2.1.*,!=2.2.*,!=2.3.0,<3.0.0dev,>=1.31.5->google-api-python-client->otter-grader) (1.58.0)\n",
      "Requirement already satisfied: protobuf!=3.20.0,!=3.20.1,!=4.21.0,!=4.21.1,!=4.21.2,!=4.21.3,!=4.21.4,!=4.21.5,<5.0.0dev,>=3.19.5 in c:\\users\\owner\\anaconda3\\lib\\site-packages (from google-api-core!=2.0.*,!=2.1.*,!=2.2.*,!=2.3.0,<3.0.0dev,>=1.31.5->google-api-python-client->otter-grader) (4.22.1)\n",
      "Requirement already satisfied: cachetools<6.0,>=2.0.0 in c:\\users\\owner\\anaconda3\\lib\\site-packages (from google-auth<3.0.0dev,>=1.19.0->google-api-python-client->otter-grader) (5.3.0)\n",
      "Requirement already satisfied: pyasn1-modules>=0.2.1 in c:\\users\\owner\\anaconda3\\lib\\site-packages (from google-auth<3.0.0dev,>=1.19.0->google-api-python-client->otter-grader) (0.2.8)\n",
      "Requirement already satisfied: rsa<5,>=3.1.4 in c:\\users\\owner\\anaconda3\\lib\\site-packages (from google-auth<3.0.0dev,>=1.19.0->google-api-python-client->otter-grader) (4.9)\n",
      "Requirement already satisfied: pyparsing!=3.0.0,!=3.0.1,!=3.0.2,!=3.0.3,<4,>=2.4.2 in c:\\users\\owner\\anaconda3\\lib\\site-packages (from httplib2<1dev,>=0.15.0->google-api-python-client->otter-grader) (3.0.9)\n",
      "Requirement already satisfied: parso<0.9.0,>=0.8.0 in c:\\users\\owner\\anaconda3\\lib\\site-packages (from jedi>=0.16->ipython->otter-grader) (0.8.3)\n",
      "Requirement already satisfied: attrs>=17.4.0 in c:\\users\\owner\\anaconda3\\lib\\site-packages (from jsonschema>=2.6->nbformat->otter-grader) (21.4.0)\n",
      "Requirement already satisfied: pyrsistent!=0.17.0,!=0.17.1,!=0.17.2,>=0.14.0 in c:\\users\\owner\\anaconda3\\lib\\site-packages (from jsonschema>=2.6->nbformat->otter-grader) (0.18.0)\n",
      "Requirement already satisfied: mdurl~=0.1 in c:\\users\\owner\\anaconda3\\lib\\site-packages (from markdown-it-py<3.0.0,>=1.0.0->jupytext->otter-grader) (0.1.2)\n",
      "Requirement already satisfied: wcwidth in c:\\users\\owner\\anaconda3\\lib\\site-packages (from prompt-toolkit!=3.0.0,!=3.0.1,<3.1.0,>=2.0.0->ipython->otter-grader) (0.2.5)\n",
      "Requirement already satisfied: oauthlib>=3.0.0 in c:\\users\\owner\\anaconda3\\lib\\site-packages (from requests-oauthlib>=0.7.0->google-auth-oauthlib->otter-grader) (3.2.2)\n",
      "Requirement already satisfied: pywin32>=1.0 in c:\\users\\owner\\anaconda3\\lib\\site-packages (from jupyter_core->nbformat->otter-grader) (302)\n",
      "Requirement already satisfied: sphinxcontrib-htmlhelp>=2.0.0 in c:\\users\\owner\\anaconda3\\lib\\site-packages (from sphinx->fica>=0.2.0->otter-grader) (2.0.0)\n",
      "Requirement already satisfied: importlib-metadata>=4.4 in c:\\users\\owner\\anaconda3\\lib\\site-packages (from sphinx->fica>=0.2.0->otter-grader) (4.11.3)\n",
      "Requirement already satisfied: sphinxcontrib-serializinghtml>=1.1.5 in c:\\users\\owner\\anaconda3\\lib\\site-packages (from sphinx->fica>=0.2.0->otter-grader) (1.1.5)\n",
      "Requirement already satisfied: babel>=1.3 in c:\\users\\owner\\anaconda3\\lib\\site-packages (from sphinx->fica>=0.2.0->otter-grader) (2.9.1)\n",
      "Requirement already satisfied: sphinxcontrib-jsmath in c:\\users\\owner\\anaconda3\\lib\\site-packages (from sphinx->fica>=0.2.0->otter-grader) (1.0.1)\n",
      "Requirement already satisfied: packaging in c:\\users\\owner\\anaconda3\\lib\\site-packages (from sphinx->fica>=0.2.0->otter-grader) (21.3)\n",
      "Requirement already satisfied: imagesize in c:\\users\\owner\\anaconda3\\lib\\site-packages (from sphinx->fica>=0.2.0->otter-grader) (1.4.1)\n",
      "Requirement already satisfied: sphinxcontrib-devhelp in c:\\users\\owner\\anaconda3\\lib\\site-packages (from sphinx->fica>=0.2.0->otter-grader) (1.0.2)\n",
      "Requirement already satisfied: snowballstemmer>=1.1 in c:\\users\\owner\\anaconda3\\lib\\site-packages (from sphinx->fica>=0.2.0->otter-grader) (2.2.0)\n",
      "Requirement already satisfied: sphinxcontrib-applehelp in c:\\users\\owner\\anaconda3\\lib\\site-packages (from sphinx->fica>=0.2.0->otter-grader) (1.0.2)\n",
      "Requirement already satisfied: alabaster<0.8,>=0.7 in c:\\users\\owner\\anaconda3\\lib\\site-packages (from sphinx->fica>=0.2.0->otter-grader) (0.7.12)\n",
      "Requirement already satisfied: sphinxcontrib-qthelp in c:\\users\\owner\\anaconda3\\lib\\site-packages (from sphinx->fica>=0.2.0->otter-grader) (1.0.3)\n",
      "Requirement already satisfied: zipp>=0.5 in c:\\users\\owner\\anaconda3\\lib\\site-packages (from importlib-metadata>=4.4->sphinx->fica>=0.2.0->otter-grader) (3.8.0)\n",
      "Requirement already satisfied: pyasn1<0.5.0,>=0.4.6 in c:\\users\\owner\\anaconda3\\lib\\site-packages (from pyasn1-modules>=0.2.1->google-auth<3.0.0dev,>=1.19.0->google-api-python-client->otter-grader) (0.4.8)\n"
     ]
    }
   ],
   "source": [
    "!pip install nose \n",
    "!pip install otter-grader"
   ]
  },
  {
   "cell_type": "code",
   "execution_count": 2,
   "metadata": {
    "deletable": false,
    "editable": false
   },
   "outputs": [],
   "source": [
    "# Initialize Otter\n",
    "import otter\n",
    "grader = otter.Notebook(\"DSA_2023_Entry.ipynb\")"
   ]
  },
  {
   "cell_type": "markdown",
   "metadata": {
    "id": "B1DroRwx3ENZ"
   },
   "source": [
    "## DSA 2023 Summer School Admittance Check\n",
    "\n",
    "Thanks for your interest in attending DSA Kigali 2023. To attend the summer school you have to have some level of basic Python proficiency. Completing the following notebook should ensure you have the right kind of background to benefit maximally from the Summer School. See you in Kigali!"
   ]
  },
  {
   "cell_type": "code",
   "execution_count": 3,
   "metadata": {
    "id": "7Upwjh9U3ENa"
   },
   "outputs": [],
   "source": [
    "# Run these once ... Just in case \n",
    "#!pip install nose \n",
    "#!pip install otter-grader\n",
    "import IPython\n",
    "from IPython import get_ipython\n",
    "# Import the good stuff\n",
    "import pandas as pd\n",
    "import numpy as np\n",
    "import math\n",
    "from nose.tools import assert_equal\n",
    "import otter\n",
    "grader = otter.Notebook()"
   ]
  },
  {
   "cell_type": "markdown",
   "metadata": {
    "id": "6ibmmx8r3ENc"
   },
   "source": [
    "**Question 1:** Write a Python function to return a tuple of primes and non primes given an integer input "
   ]
  },
  {
   "cell_type": "code",
   "execution_count": 4,
   "metadata": {
    "id": "CWjGPqaO3ENc",
    "tags": []
   },
   "outputs": [
    {
     "name": "stdout",
     "output_type": "stream",
     "text": [
      "Following are the prime and non prime numbers smaller than or equal to 30\n",
      "((2, 3, 5, 7, 11, 13, 17, 19, 23, 29), (4, 6, 8, 9, 10, 12, 14, 15, 16, 18, 20, 21, 22, 24, 25, 26, 27, 28, 30))\n"
     ]
    }
   ],
   "source": [
    "def sieve(n):\n",
    "    primes = []\n",
    "    non_primes = []\n",
    "    sieve = [True] * (n+1)\n",
    "    sieve[0] = sieve[1] = False\n",
    "    for p in range(2, n+1):\n",
    "        if sieve[p]:\n",
    "            primes.append(p)\n",
    "            for i in range(p*p, n+1, p):\n",
    "                sieve[i] = False\n",
    "        else:\n",
    "            non_primes.append(p)\n",
    "    return tuple(primes), tuple(non_primes)\n",
    "num = 30\n",
    "print(\"Following are the prime and non prime numbers smaller than or equal to\", num)\n",
    "print(sieve(num))"
   ]
  },
  {
   "cell_type": "code",
   "execution_count": 5,
   "metadata": {
    "deletable": false,
    "editable": false
   },
   "outputs": [
    {
     "data": {
      "text/html": [
       "<p><strong><pre style='display: inline;'>q1</pre></strong> passed! ✨</p>"
      ],
      "text/plain": [
       "q1 results: All test cases passed!"
      ]
     },
     "execution_count": 5,
     "metadata": {},
     "output_type": "execute_result"
    }
   ],
   "source": [
    "grader.check(\"q1\")"
   ]
  },
  {
   "cell_type": "markdown",
   "metadata": {
    "id": "ntYqVxEQ3ENd"
   },
   "source": [
    "**Question 2:** Create a dictionary to store the type and number of unique characters in the paragraph provided"
   ]
  },
  {
   "cell_type": "code",
   "execution_count": 6,
   "metadata": {
    "id": "LlZ8GC4J3ENe",
    "tags": []
   },
   "outputs": [
    {
     "name": "stdout",
     "output_type": "stream",
     "text": [
      "{'uppercase': 10, 'lowercase': 24, 'space': 1, 'digit': 10}\n"
     ]
    }
   ],
   "source": [
    "paragraph = \"The following is sample text I used to practice special characters using keybr.com: 112233445566778899 Saturn V rocket’s first stage carries 203,400 gallons (770,000 liters) of kerosene fuel and 318,000 gallons (1.2 million liters) of liquid oxygen needed for combustion. At liftoff, the stage’s five F-1 rocket engines ignite and produce 7.5 million pounds of thrust. To replace those goofy quantities with the far less retarded metric system (even though liters are considered part of the metric system they are the same as cubic deci-meters) you would say 770 cubic meters of kerosene {abbreviated as m3} and 1,204 m3 of liquid O2 [O2 is the symbol for oxygen]. We would also say it produced 33,600,000 newtons of force <abbreviated as N>. To add scientific notation {a way of writing numbers that allows you to write only as many digits `of specificity` as you would like} you can write 7.7 * 10 ^ 2 m3 of kerosene 1.204 * 10 ^ 3 m3 of O2 and 3.3 * 10 ^ 7 newtons. Another way to write scientific notation is to replace the “* 10 ^” with ‘E’ -/capital e\\-. So our numbers would look like:s\"\n",
    "# Remove all non-alphanumeric characters from the paragraph\n",
    "paragraph = ''.join(e for e in paragraph if e.isalnum() or e.isspace())\n",
    "\n",
    "# Count the number of occurrences of each unique character\n",
    "char_counts = {}\n",
    "for char in paragraph:\n",
    "    if char not in char_counts:\n",
    "        char_counts[char] = 1\n",
    "    else:\n",
    "        char_counts[char] += 1\n",
    "\n",
    "# Create a dictionary to store the type and number of unique characters\n",
    "dictionary = {}\n",
    "for char, count in char_counts.items():\n",
    "    if char.isalpha():\n",
    "        if char.isupper():\n",
    "            dictionary['uppercase'] = dictionary.get('uppercase', 0) + 1\n",
    "        elif char.islower():\n",
    "            dictionary['lowercase'] = dictionary.get('lowercase', 0) + 1\n",
    "    elif char.isdigit():\n",
    "        dictionary['digit'] = dictionary.get('digit', 0) + 1\n",
    "    elif char.isspace():\n",
    "        dictionary['space'] = dictionary.get('space', 0) + 1\n",
    "    else:\n",
    "        dictionary['special'] = dictionary.get('special', 0) + 1\n",
    "        \n",
    "print(dictionary)"
   ]
  },
  {
   "cell_type": "code",
   "execution_count": 7,
   "metadata": {
    "deletable": false,
    "editable": false
   },
   "outputs": [
    {
     "data": {
      "text/html": [
       "<p><strong><pre style='display: inline;'>q2</pre></strong> passed! 💯</p>"
      ],
      "text/plain": [
       "q2 results: All test cases passed!"
      ]
     },
     "execution_count": 7,
     "metadata": {},
     "output_type": "execute_result"
    }
   ],
   "source": [
    "grader.check(\"q2\")"
   ]
  },
  {
   "cell_type": "markdown",
   "metadata": {
    "id": "ylvPVW8m3ENe"
   },
   "source": [
    "**Question 3:** Extract the values from the dictionary above into a list"
   ]
  },
  {
   "cell_type": "code",
   "execution_count": 8,
   "metadata": {
    "id": "I50ccd1SJMn4",
    "tags": []
   },
   "outputs": [
    {
     "name": "stdout",
     "output_type": "stream",
     "text": [
      "['T', 'h', 'e', ' ', 'f', 'o', 'l', 'w', 'i', 'n', 'g', 's', 'a', 'm', 'p', 't', 'x', 'I', 'u', 'd', 'r', 'c', 'k', 'y', 'b', '.', ':', '1', '2', '3', '4', '5', '6', '7', '8', '9', 'S', 'V', '’', '0', ',', '(', ')', 'q', 'A', 'v', 'F', '-', '{', '}', 'O', '[', ']', 'W', '<', 'N', '>', '`', '*', '^', '“', '”', '‘', 'E', '/', '\\\\']\n"
     ]
    }
   ],
   "source": [
    "dictionary = {\n",
    "    'T': 1, 'h': 2, 'e': 3, ' ': 4, 'f': 5, 'o': 6, 'l': 7, 'w': 8, 'i': 9, 'n': 10,\n",
    "    'g': 11, 's': 12, 'a': 13, 'm': 14, 'p': 15, 't': 16, 'x': 17, 'I': 18, 'u': 19,\n",
    "    'd': 20, 'r': 21, 'c': 22, 'k': 23, 'y': 24, 'b': 25, '.': 26, ':': 27, '1': 28,\n",
    "    '2': 29, '3': 30, '4': 31, '5': 32, '6': 33, '7': 34, '8': 35, '9': 36, 'S': 37,\n",
    "    'V': 38, '’': 39, '0': 40, ',': 41, '(': 42, ')': 43, 'q': 44, 'A': 45, 'v': 46,\n",
    "    'F': 47, '-': 48, '{': 49, '}': 50, 'O': 51, '[': 52, ']': 53, 'W': 54, '<': 55,\n",
    "    'N': 56, '>': 57, '`': 58, '*': 59, '^': 60, '“': 61, '”': 62, '‘': 63, 'E': 64,\n",
    "    '/': 65, '\\\\': 66\n",
    "}\n",
    "\n",
    "keysList = list(dictionary.keys())\n",
    "\n",
    "print(keysList)"
   ]
  },
  {
   "cell_type": "code",
   "execution_count": 9,
   "metadata": {
    "deletable": false,
    "editable": false
   },
   "outputs": [
    {
     "data": {
      "text/html": [
       "<p><strong><pre style='display: inline;'>q3</pre></strong> passed! 🎉</p>"
      ],
      "text/plain": [
       "q3 results: All test cases passed!"
      ]
     },
     "execution_count": 9,
     "metadata": {},
     "output_type": "execute_result"
    }
   ],
   "source": [
    "grader.check(\"q3\")"
   ]
  },
  {
   "cell_type": "markdown",
   "metadata": {
    "id": "hucvAvprJMn5"
   },
   "source": [
    "**Question 4:** Extract the keys from the dictionary above into a list"
   ]
  },
  {
   "cell_type": "code",
   "execution_count": 10,
   "metadata": {
    "id": "wLHoBNERJMn5",
    "tags": []
   },
   "outputs": [
    {
     "name": "stdout",
     "output_type": "stream",
     "text": [
      "[1, 7, 21, 27, 4, 15, 5, 2, 17, 13, 6, 9, 11, 3, 5, 13, 1, 1, 3, 3, 11, 2, 2, 2, 1, 1, 1, 1, 1, 1, 1, 1, 1, 1, 1, 1, 1, 1, 1, 1, 1, 1, 1, 1, 1, 1, 1, 1, 1, 1, 1, 1, 1, 1, 1, 1, 1, 1, 1, 1, 1, 1, 1, 1, 1, 1]\n"
     ]
    }
   ],
   "source": [
    "dictionary = {'T': 1, 'h': 7, 'e': 21, ' ': 27, 'f': 4, 'o': 15, 'l': 5, 'w': 2, 'i': 17, 'n': 13, 'g': 6, 's': 9, 'a': 11, 'm': 3, 'p': 5, 't': 13, 'x': 1, 'I': 1, 'u': 3, 'd': 3, 'r': 11, 'c': 2, 'k': 2, 'y': 2, 'b': 1, '.': 1, ':': 1, '1': 1, '2': 1, '3': 1, '4': 1, '5': 1, '6': 1, '7': 1, '8': 1, '9': 1, 'S': 1, 'V': 1, '’': 1, '0': 1, ',': 1, '(': 1, ')': 1, 'q': 1, 'A': 1, 'v': 1, 'F': 1, '-': 1, '{': 1, '}': 1, 'O': 1, '[': 1, ']': 1, 'W': 1, '<': 1, 'N': 1, '>': 1, '`': 1, '*': 1, '^': 1, '“': 1, '”': 1, '‘': 1, 'E': 1, '/': 1, '\\\\': 1}\n",
    "\n",
    "valuesList = list(dictionary.values())\n",
    "print(valuesList)"
   ]
  },
  {
   "cell_type": "code",
   "execution_count": 11,
   "metadata": {
    "deletable": false,
    "editable": false
   },
   "outputs": [
    {
     "data": {
      "text/html": [
       "<p><strong><pre style='display: inline;'>q4</pre></strong> passed! 💯</p>"
      ],
      "text/plain": [
       "q4 results: All test cases passed!"
      ]
     },
     "execution_count": 11,
     "metadata": {},
     "output_type": "execute_result"
    }
   ],
   "source": [
    "grader.check(\"q4\")"
   ]
  },
  {
   "cell_type": "markdown",
   "metadata": {
    "id": "9PpnMsGpJMn5"
   },
   "source": [
    "**Question 5:** Merge the two lists into a tuple"
   ]
  },
  {
   "cell_type": "code",
   "execution_count": 12,
   "metadata": {},
   "outputs": [
    {
     "name": "stdout",
     "output_type": "stream",
     "text": [
      "(('T', 'h', 'e', ' ', 'f', 'o', 'l', 'w', 'i', 'n', 'g', 's', 'a', 'm', 'p', 't', 'x', 'I', 'u', 'd', 'r', 'c', 'k', 'y', 'b', '.', ':', '1', '2', '3', '4', '5', '6', '7', '8', '9', 'S', 'V', '’', '0', ',', '(', ')', 'q', 'A', 'v', 'F', '-', '{', '}', 'O', '[', ']', 'W', '<', 'N', '>', '`', '*', '^', '“', '”', '‘', 'E', '/', '\\\\'), (3, 17, 89, 192, 26, 68, 35, 16, 60, 42, 14, 57, 48, 20, 11, 65, 3, 1, 26, 27, 45, 31, 9, 19, 11, 12, 2, 11, 10, 13, 5, 3, 3, 10, 3, 2, 2, 1, 4, 2, 2, 3, 1, 1, 1, 1, 1, 1, 1, 1, 1, 1, 1, 2, 1, 1, 1, 1, 2, 1, 1, 1, 1, 2, 4, 4))\n"
     ]
    }
   ],
   "source": [
    "dictionary = {'T': 3, 'h': 17, 'e': 89, ' ': 192, 'f': 26, 'o': 68, 'l': 35, 'w': 16, 'i': 60, 'n': 42, 'g': 14, 's': 57, 'a': 48, 'm': 20, 'p': 11, 't': 65, 'x': 3, 'I': 1, 'u': 26, 'd': 27, 'r': 45, 'c': 31, 'k': 9, 'y': 19, 'b': 11, '.': 12, ':': 2, '1': 11, '2': 10, '3': 13, '4': 5, '5': 3, '6': 3, '7': 10, '8': 3, '9': 2, 'S': 2, 'V': 1, '’': 4, '0': 2, ',': 2, '(': 3, ')': 1, 'q': 1, 'A': 1, 'v': 1, 'F': 1, '-': 1, '{': 1, '}': 1, 'O': 1, '[': 1, ']': 1, 'W': 2, '<': 1, 'N': 1, '>': 1, '`': 1, '*': 2, '^': 1, '“': 1, '”': 1, '‘': 1, 'E': 2, '/': 4, '\\\\': 4}\n",
    "\n",
    "keys = list(dictionary.keys())\n",
    "values = list(dictionary.values())\n",
    "\n",
    "final_tuple = (tuple(keys), tuple(values))\n",
    "\n",
    "print(final_tuple)"
   ]
  },
  {
   "cell_type": "code",
   "execution_count": null,
   "metadata": {
    "deletable": false,
    "editable": false
   },
   "outputs": [],
   "source": [
    "grader.check(\"q5\")"
   ]
  },
  {
   "cell_type": "markdown",
   "metadata": {},
   "source": [
    "**Question 6:**  Write a function `greatest_common_divisor` that takes two inputs `a` and `b` and returns the greatest common divisor of the two numbers. E.g. input `(10, 15)` would return `5`"
   ]
  },
  {
   "cell_type": "code",
   "execution_count": 14,
   "metadata": {
    "tags": []
   },
   "outputs": [],
   "source": [
    "def greatest_common_divisor(a, b):\n",
    "    if b == 0:\n",
    "        return a\n",
    "    else:\n",
    "        return greatest_common_divisor(b, a % b)\n"
   ]
  },
  {
   "cell_type": "code",
   "execution_count": 15,
   "metadata": {
    "deletable": false,
    "editable": false
   },
   "outputs": [
    {
     "data": {
      "text/html": [
       "<p><strong><pre style='display: inline;'>q6</pre></strong> passed! 🚀</p>"
      ],
      "text/plain": [
       "q6 results: All test cases passed!"
      ]
     },
     "execution_count": 15,
     "metadata": {},
     "output_type": "execute_result"
    }
   ],
   "source": [
    "grader.check(\"q6\")"
   ]
  },
  {
   "cell_type": "markdown",
   "metadata": {},
   "source": [
    "**Question 7:**  Write a function `get_nearest_farthest` that takes in a point of interest (pt) and a list of points and returns the nearest point and the farthest point from the point of intest."
   ]
  },
  {
   "cell_type": "code",
   "execution_count": 16,
   "metadata": {
    "tags": []
   },
   "outputs": [],
   "source": [
    "import math\n",
    "def get_nearest_farthest(pt, ptlist):\n",
    "    if len(ptlist) == 0:\n",
    "        return None, None\n",
    "    nearest = ptlist[0]\n",
    "    farthest = ptlist[0]\n",
    "    min_distance = math.dist(pt, nearest)\n",
    "    max_distance = math.dist(pt, farthest)\n",
    "    for point in ptlist:\n",
    "        distance = math.dist(pt, point)\n",
    "        if distance < min_distance:\n",
    "            nearest = point\n",
    "            min_distance = distance\n",
    "        if distance > max_distance:\n",
    "            farthest = point\n",
    "            max_distance = distance\n",
    "    return nearest, farthest\n"
   ]
  },
  {
   "cell_type": "code",
   "execution_count": 17,
   "metadata": {
    "deletable": false,
    "editable": false
   },
   "outputs": [
    {
     "data": {
      "text/html": [
       "<p><strong><pre style='display: inline;'>q7</pre></strong> passed! 🎉</p>"
      ],
      "text/plain": [
       "q7 results: All test cases passed!"
      ]
     },
     "execution_count": 17,
     "metadata": {},
     "output_type": "execute_result"
    }
   ],
   "source": [
    "grader.check(\"q7\")"
   ]
  },
  {
   "cell_type": "markdown",
   "metadata": {},
   "source": [
    "**Question 8:**  Write a function `perfectly_divisible` to return a list of numbers between 0 and a number $N$ that are perfectly divisible by $q$ (with out leaving a remainder). <br>\n",
    "**Hint**: $N$ should also be inclusive in the numbers being considered. If N is negative use N == 20"
   ]
  },
  {
   "cell_type": "code",
   "execution_count": 18,
   "metadata": {
    "tags": []
   },
   "outputs": [],
   "source": [
    "def perfectly_divisible(N, q):\n",
    "    if N < 0:\n",
    "        N = 20\n",
    "    return [x for x in range(N+1) if x % q == 0]"
   ]
  },
  {
   "cell_type": "code",
   "execution_count": 19,
   "metadata": {
    "deletable": false,
    "editable": false
   },
   "outputs": [
    {
     "data": {
      "text/html": [
       "<p><strong><pre style='display: inline;'>q8</pre></strong> passed! 🚀</p>"
      ],
      "text/plain": [
       "q8 results: All test cases passed!"
      ]
     },
     "execution_count": 19,
     "metadata": {},
     "output_type": "execute_result"
    }
   ],
   "source": [
    "grader.check(\"q8\")"
   ]
  },
  {
   "cell_type": "markdown",
   "metadata": {},
   "source": [
    "**Question 9:**  Write a function `flatten_lists` that takes in a list of lists and outputs a sorted list of elements of sublists of the input list (confusing right?) <br>\n",
    "Example: given `flatten_lists([[2,13,44], [6,7]])` it should return `[2,6,7,13,44]`"
   ]
  },
  {
   "cell_type": "code",
   "execution_count": 20,
   "metadata": {
    "tags": []
   },
   "outputs": [],
   "source": [
    "def flatten_lists(superlist):\n",
    "    # Create an empty list to store the flattened elements\n",
    "    flattened_list = []\n",
    "    \n",
    "    # Loop through each sublist in the superlist\n",
    "    for sublist in superlist:\n",
    "        # Extend the flattened list with the elements of the sublist\n",
    "        flattened_list.extend(sublist)\n",
    "    \n",
    "    # Sort the flattened list and return it\n",
    "    return sorted(flattened_list)\n"
   ]
  },
  {
   "cell_type": "code",
   "execution_count": 21,
   "metadata": {
    "deletable": false,
    "editable": false
   },
   "outputs": [
    {
     "data": {
      "text/html": [
       "<p><strong><pre style='display: inline;'>q9</pre></strong> passed! ✨</p>"
      ],
      "text/plain": [
       "q9 results: All test cases passed!"
      ]
     },
     "execution_count": 21,
     "metadata": {},
     "output_type": "execute_result"
    }
   ],
   "source": [
    "grader.check(\"q9\")"
   ]
  },
  {
   "cell_type": "markdown",
   "metadata": {},
   "source": [
    "**The Extra Mile!** "
   ]
  },
  {
   "cell_type": "markdown",
   "metadata": {
    "id": "_egf664jJMn5"
   },
   "source": [
    "**Download the dataset \"Nakuru Sensor Data for February 2023 from https://open.africa/dataset/sensorsafrica-airquality-archive-nakuru/resource/14165682-37dd-4f40-914e-eb24619e4ef8\"**\n",
    "\n",
    "Load the 'timestamp','value_type' and 'value' collumns into a pandas dataframe "
   ]
  },
  {
   "cell_type": "code",
   "execution_count": 22,
   "metadata": {
    "id": "r2lE0yrPJMn5"
   },
   "outputs": [
    {
     "data": {
      "text/html": [
       "<div>\n",
       "<style scoped>\n",
       "    .dataframe tbody tr th:only-of-type {\n",
       "        vertical-align: middle;\n",
       "    }\n",
       "\n",
       "    .dataframe tbody tr th {\n",
       "        vertical-align: top;\n",
       "    }\n",
       "\n",
       "    .dataframe thead th {\n",
       "        text-align: right;\n",
       "    }\n",
       "</style>\n",
       "<table border=\"1\" class=\"dataframe\">\n",
       "  <thead>\n",
       "    <tr style=\"text-align: right;\">\n",
       "      <th></th>\n",
       "      <th>timestamp</th>\n",
       "      <th>value_type</th>\n",
       "      <th>value</th>\n",
       "    </tr>\n",
       "  </thead>\n",
       "  <tbody>\n",
       "    <tr>\n",
       "      <th>0</th>\n",
       "      <td>2023-02-04T04:22:51.323124+00:00</td>\n",
       "      <td>humidity</td>\n",
       "      <td>100</td>\n",
       "    </tr>\n",
       "    <tr>\n",
       "      <th>1</th>\n",
       "      <td>2023-02-04T04:22:51.323124+00:00</td>\n",
       "      <td>temperature</td>\n",
       "      <td>12</td>\n",
       "    </tr>\n",
       "    <tr>\n",
       "      <th>2</th>\n",
       "      <td>2023-02-04T04:22:51.323125+00:00</td>\n",
       "      <td>P2</td>\n",
       "      <td>27</td>\n",
       "    </tr>\n",
       "    <tr>\n",
       "      <th>3</th>\n",
       "      <td>2023-02-04T04:22:51.323125+00:00</td>\n",
       "      <td>P1</td>\n",
       "      <td>59</td>\n",
       "    </tr>\n",
       "    <tr>\n",
       "      <th>4</th>\n",
       "      <td>2023-02-04T04:25:32.354784+00:00</td>\n",
       "      <td>humidity</td>\n",
       "      <td>100</td>\n",
       "    </tr>\n",
       "  </tbody>\n",
       "</table>\n",
       "</div>"
      ],
      "text/plain": [
       "                          timestamp   value_type  value\n",
       "0  2023-02-04T04:22:51.323124+00:00     humidity    100\n",
       "1  2023-02-04T04:22:51.323124+00:00  temperature     12\n",
       "2  2023-02-04T04:22:51.323125+00:00           P2     27\n",
       "3  2023-02-04T04:22:51.323125+00:00           P1     59\n",
       "4  2023-02-04T04:25:32.354784+00:00     humidity    100"
      ]
     },
     "execution_count": 22,
     "metadata": {},
     "output_type": "execute_result"
    }
   ],
   "source": [
    "import pandas as pd\n",
    "from functools import reduce\n",
    "\n",
    "#Load the 'timestamp','value_type' and 'value' collumns into a pandas dataframe \n",
    "\n",
    "df = pd.read_csv('Nakuru_Sensor_Data_Feb_2023.csv',delimiter=';',usecols=['timestamp','value_type','value'])\n",
    "\n",
    "df.head()"
   ]
  },
  {
   "cell_type": "markdown",
   "metadata": {
    "id": "Er6lemMeJMn5"
   },
   "source": [
    "**Question E1:** Create a new collumn 'timestamp_new' from 'timestamp' rounded off to the second "
   ]
  },
  {
   "cell_type": "code",
   "execution_count": 23,
   "metadata": {
    "id": "sQq3JIaVJMn5",
    "tags": []
   },
   "outputs": [
    {
     "data": {
      "text/html": [
       "<div>\n",
       "<style scoped>\n",
       "    .dataframe tbody tr th:only-of-type {\n",
       "        vertical-align: middle;\n",
       "    }\n",
       "\n",
       "    .dataframe tbody tr th {\n",
       "        vertical-align: top;\n",
       "    }\n",
       "\n",
       "    .dataframe thead th {\n",
       "        text-align: right;\n",
       "    }\n",
       "</style>\n",
       "<table border=\"1\" class=\"dataframe\">\n",
       "  <thead>\n",
       "    <tr style=\"text-align: right;\">\n",
       "      <th></th>\n",
       "      <th>timestamp</th>\n",
       "      <th>value_type</th>\n",
       "      <th>value</th>\n",
       "      <th>timestamp_new</th>\n",
       "    </tr>\n",
       "  </thead>\n",
       "  <tbody>\n",
       "    <tr>\n",
       "      <th>0</th>\n",
       "      <td>2023-02-04T04:22:51.323124+00:00</td>\n",
       "      <td>humidity</td>\n",
       "      <td>100</td>\n",
       "      <td>2023-02-04 04:22:51+00:00</td>\n",
       "    </tr>\n",
       "    <tr>\n",
       "      <th>1</th>\n",
       "      <td>2023-02-04T04:22:51.323124+00:00</td>\n",
       "      <td>temperature</td>\n",
       "      <td>12</td>\n",
       "      <td>2023-02-04 04:22:51+00:00</td>\n",
       "    </tr>\n",
       "    <tr>\n",
       "      <th>2</th>\n",
       "      <td>2023-02-04T04:22:51.323125+00:00</td>\n",
       "      <td>P2</td>\n",
       "      <td>27</td>\n",
       "      <td>2023-02-04 04:22:51+00:00</td>\n",
       "    </tr>\n",
       "    <tr>\n",
       "      <th>3</th>\n",
       "      <td>2023-02-04T04:22:51.323125+00:00</td>\n",
       "      <td>P1</td>\n",
       "      <td>59</td>\n",
       "      <td>2023-02-04 04:22:51+00:00</td>\n",
       "    </tr>\n",
       "    <tr>\n",
       "      <th>4</th>\n",
       "      <td>2023-02-04T04:25:32.354784+00:00</td>\n",
       "      <td>humidity</td>\n",
       "      <td>100</td>\n",
       "      <td>2023-02-04 04:25:32+00:00</td>\n",
       "    </tr>\n",
       "  </tbody>\n",
       "</table>\n",
       "</div>"
      ],
      "text/plain": [
       "                          timestamp   value_type  value  \\\n",
       "0  2023-02-04T04:22:51.323124+00:00     humidity    100   \n",
       "1  2023-02-04T04:22:51.323124+00:00  temperature     12   \n",
       "2  2023-02-04T04:22:51.323125+00:00           P2     27   \n",
       "3  2023-02-04T04:22:51.323125+00:00           P1     59   \n",
       "4  2023-02-04T04:25:32.354784+00:00     humidity    100   \n",
       "\n",
       "              timestamp_new  \n",
       "0 2023-02-04 04:22:51+00:00  \n",
       "1 2023-02-04 04:22:51+00:00  \n",
       "2 2023-02-04 04:22:51+00:00  \n",
       "3 2023-02-04 04:22:51+00:00  \n",
       "4 2023-02-04 04:25:32+00:00  "
      ]
     },
     "execution_count": 23,
     "metadata": {},
     "output_type": "execute_result"
    }
   ],
   "source": [
    "df['timestamp_new'] = pd.to_datetime(df['timestamp']).dt.round('1s')\n",
    "df.head()"
   ]
  },
  {
   "cell_type": "markdown",
   "metadata": {
    "id": "_HM8DysCJMn6"
   },
   "source": [
    "**Question E2:** Split the dataframe based on the 'value_type' collumn"
   ]
  },
  {
   "cell_type": "code",
   "execution_count": 24,
   "metadata": {
    "id": "z3NUYMOZJMn6",
    "tags": []
   },
   "outputs": [],
   "source": [
    "grouped = df.groupby('value_type')\n",
    "\n",
    "df_temperature = grouped.get_group('temperature')\n",
    "df_humidity = grouped.get_group('humidity')\n",
    "df_P1 = grouped.get_group('P1')\n",
    "df_P2 = grouped.get_group('P2')"
   ]
  },
  {
   "cell_type": "markdown",
   "metadata": {
    "id": "YAEsAuUvJMn6"
   },
   "source": [
    "**Question E3:** Find the mean, mode and median of the humidity, temperature, P1 and P2 values"
   ]
  },
  {
   "cell_type": "code",
   "execution_count": 25,
   "metadata": {
    "id": "14T6jzZ_JMn6",
    "tags": []
   },
   "outputs": [
    {
     "name": "stdout",
     "output_type": "stream",
     "text": [
      "Temperature\n",
      "Mean =  22.35287548855388 Median =  22.0 Standard Deviation =  7.218686624924859\n",
      "Humidity\n",
      "Mean =  64.31109249953471 Median =  61.0 Standard Deviation =  22.407697062564335\n",
      "P1\n",
      "Mean =  28.508605451669922 Median =  20.0 Standard Deviation =  33.69146836187376\n",
      "P2\n",
      "Mean =  11.30142338822216 Median =  8.0 Standard Deviation =  11.865466667566917\n"
     ]
    }
   ],
   "source": [
    "# Temperature\n",
    "mu_temp = df_temperature['value'].mean()\n",
    "med_temp = df_temperature['value'].median()\n",
    "sd_temp = df_temperature['value'].std()\n",
    "\n",
    "print(\"Temperature\")\n",
    "print(\"Mean = \",mu_temp, \"Median = \", med_temp, \"Standard Deviation = \", sd_temp)\n",
    "\n",
    "# Humidity\n",
    "mu_humidity = df_humidity['value'].mean()\n",
    "med_humidity = df_humidity['value'].median()\n",
    "sd_humidity = df_humidity['value'].std()\n",
    "\n",
    "print(\"Humidity\")\n",
    "print(\"Mean = \",mu_humidity, \"Median = \", med_humidity, \"Standard Deviation = \", sd_humidity)\n",
    "\n",
    "# P1\n",
    "mu_P1 = df_P1['value'].mean()\n",
    "med_P1 = df_P1['value'].median()\n",
    "sd_P1 = df_P1['value'].std()\n",
    "print(\"P1\")\n",
    "print(\"Mean = \",mu_P1, \"Median = \", med_P1, \"Standard Deviation = \", sd_P1)\n",
    "\n",
    "\n",
    "# P2\n",
    "mu_P2 = df_P2['value'].mean()\n",
    "med_P2 = df_P2['value'].median()\n",
    "sd_P2 = df_P2['value'].std()\n",
    "\n",
    "print(\"P2\")\n",
    "print(\"Mean = \",mu_P2, \"Median = \", med_P2, \"Standard Deviation = \", sd_P2)"
   ]
  },
  {
   "cell_type": "markdown",
   "metadata": {
    "id": "EKWBykh-JMn6"
   },
   "source": [
    "**Question E4:** Merge the grouped dataframes into one dataframe and save it as newdata.csv"
   ]
  },
  {
   "cell_type": "code",
   "execution_count": 26,
   "metadata": {
    "id": "4mQSIPfhJMn6",
    "tags": []
   },
   "outputs": [
    {
     "name": "stdout",
     "output_type": "stream",
     "text": [
      "       temperature  humidity  P1   P2             timestamp_new\n",
      "1             12.0       NaN NaN  NaN 2023-02-04 04:22:51+00:00\n",
      "5             11.0       NaN NaN  NaN 2023-02-04 04:25:32+00:00\n",
      "11            12.0       NaN NaN  NaN 2023-02-04 04:28:13+00:00\n",
      "13            12.0       NaN NaN  NaN 2023-02-04 04:30:52+00:00\n",
      "17            12.0       NaN NaN  NaN 2023-02-04 04:33:33+00:00\n",
      "...            ...       ...  ..  ...                       ...\n",
      "42972          NaN       NaN NaN  0.0 2023-02-24 07:43:55+00:00\n",
      "42976          NaN       NaN NaN  7.0 2023-02-24 07:46:35+00:00\n",
      "42980          NaN       NaN NaN  1.0 2023-02-24 07:49:16+00:00\n",
      "42982          NaN       NaN NaN  0.0 2023-02-24 07:51:56+00:00\n",
      "42988          NaN       NaN NaN  0.0 2023-02-24 07:54:36+00:00\n",
      "\n",
      "[42990 rows x 5 columns]\n"
     ]
    }
   ],
   "source": [
    "# concatenate data frames horizontally\n",
    "df_merged = pd.concat([df_temperature['value'], df_humidity['value'], df_P1['value'], df_P2['value'], df['timestamp_new']], axis=1)\n",
    "\n",
    "# rename columns\n",
    "df_merged.columns = ['temperature', 'humidity', 'P1', 'P2','timestamp_new']\n",
    "\n",
    "print(df_merged)\n",
    "\n",
    "from pathlib import Path  \n",
    "filepath = Path('newdata.csv')  \n",
    "filepath.parent.mkdir(parents=True, exist_ok=True)  \n",
    "df_merged.to_csv(filepath)  "
   ]
  },
  {
   "cell_type": "markdown",
   "metadata": {
    "id": "PNLVvAvbJMn6"
   },
   "source": [
    "**Question E5:** Open the new data file and select only 'timestamp_new','value_temperature','value_humidity','value_P1' and 'value_P2' collunms"
   ]
  },
  {
   "cell_type": "code",
   "execution_count": 27,
   "metadata": {
    "id": "4fyxaLq2JMn6",
    "tags": []
   },
   "outputs": [
    {
     "data": {
      "text/html": [
       "<div>\n",
       "<style scoped>\n",
       "    .dataframe tbody tr th:only-of-type {\n",
       "        vertical-align: middle;\n",
       "    }\n",
       "\n",
       "    .dataframe tbody tr th {\n",
       "        vertical-align: top;\n",
       "    }\n",
       "\n",
       "    .dataframe thead th {\n",
       "        text-align: right;\n",
       "    }\n",
       "</style>\n",
       "<table border=\"1\" class=\"dataframe\">\n",
       "  <thead>\n",
       "    <tr style=\"text-align: right;\">\n",
       "      <th></th>\n",
       "      <th>temperature</th>\n",
       "      <th>humidity</th>\n",
       "      <th>P1</th>\n",
       "      <th>P2</th>\n",
       "      <th>timestamp_new</th>\n",
       "    </tr>\n",
       "  </thead>\n",
       "  <tbody>\n",
       "    <tr>\n",
       "      <th>0</th>\n",
       "      <td>12.0</td>\n",
       "      <td>NaN</td>\n",
       "      <td>NaN</td>\n",
       "      <td>NaN</td>\n",
       "      <td>2023-02-04 04:22:51+00:00</td>\n",
       "    </tr>\n",
       "    <tr>\n",
       "      <th>1</th>\n",
       "      <td>11.0</td>\n",
       "      <td>NaN</td>\n",
       "      <td>NaN</td>\n",
       "      <td>NaN</td>\n",
       "      <td>2023-02-04 04:25:32+00:00</td>\n",
       "    </tr>\n",
       "    <tr>\n",
       "      <th>2</th>\n",
       "      <td>12.0</td>\n",
       "      <td>NaN</td>\n",
       "      <td>NaN</td>\n",
       "      <td>NaN</td>\n",
       "      <td>2023-02-04 04:28:13+00:00</td>\n",
       "    </tr>\n",
       "    <tr>\n",
       "      <th>3</th>\n",
       "      <td>12.0</td>\n",
       "      <td>NaN</td>\n",
       "      <td>NaN</td>\n",
       "      <td>NaN</td>\n",
       "      <td>2023-02-04 04:30:52+00:00</td>\n",
       "    </tr>\n",
       "    <tr>\n",
       "      <th>4</th>\n",
       "      <td>12.0</td>\n",
       "      <td>NaN</td>\n",
       "      <td>NaN</td>\n",
       "      <td>NaN</td>\n",
       "      <td>2023-02-04 04:33:33+00:00</td>\n",
       "    </tr>\n",
       "    <tr>\n",
       "      <th>...</th>\n",
       "      <td>...</td>\n",
       "      <td>...</td>\n",
       "      <td>...</td>\n",
       "      <td>...</td>\n",
       "      <td>...</td>\n",
       "    </tr>\n",
       "    <tr>\n",
       "      <th>42985</th>\n",
       "      <td>NaN</td>\n",
       "      <td>NaN</td>\n",
       "      <td>NaN</td>\n",
       "      <td>0.0</td>\n",
       "      <td>2023-02-24 07:43:55+00:00</td>\n",
       "    </tr>\n",
       "    <tr>\n",
       "      <th>42986</th>\n",
       "      <td>NaN</td>\n",
       "      <td>NaN</td>\n",
       "      <td>NaN</td>\n",
       "      <td>7.0</td>\n",
       "      <td>2023-02-24 07:46:35+00:00</td>\n",
       "    </tr>\n",
       "    <tr>\n",
       "      <th>42987</th>\n",
       "      <td>NaN</td>\n",
       "      <td>NaN</td>\n",
       "      <td>NaN</td>\n",
       "      <td>1.0</td>\n",
       "      <td>2023-02-24 07:49:16+00:00</td>\n",
       "    </tr>\n",
       "    <tr>\n",
       "      <th>42988</th>\n",
       "      <td>NaN</td>\n",
       "      <td>NaN</td>\n",
       "      <td>NaN</td>\n",
       "      <td>0.0</td>\n",
       "      <td>2023-02-24 07:51:56+00:00</td>\n",
       "    </tr>\n",
       "    <tr>\n",
       "      <th>42989</th>\n",
       "      <td>NaN</td>\n",
       "      <td>NaN</td>\n",
       "      <td>NaN</td>\n",
       "      <td>0.0</td>\n",
       "      <td>2023-02-24 07:54:36+00:00</td>\n",
       "    </tr>\n",
       "  </tbody>\n",
       "</table>\n",
       "<p>42990 rows × 5 columns</p>\n",
       "</div>"
      ],
      "text/plain": [
       "       temperature  humidity  P1   P2              timestamp_new\n",
       "0             12.0       NaN NaN  NaN  2023-02-04 04:22:51+00:00\n",
       "1             11.0       NaN NaN  NaN  2023-02-04 04:25:32+00:00\n",
       "2             12.0       NaN NaN  NaN  2023-02-04 04:28:13+00:00\n",
       "3             12.0       NaN NaN  NaN  2023-02-04 04:30:52+00:00\n",
       "4             12.0       NaN NaN  NaN  2023-02-04 04:33:33+00:00\n",
       "...            ...       ...  ..  ...                        ...\n",
       "42985          NaN       NaN NaN  0.0  2023-02-24 07:43:55+00:00\n",
       "42986          NaN       NaN NaN  7.0  2023-02-24 07:46:35+00:00\n",
       "42987          NaN       NaN NaN  1.0  2023-02-24 07:49:16+00:00\n",
       "42988          NaN       NaN NaN  0.0  2023-02-24 07:51:56+00:00\n",
       "42989          NaN       NaN NaN  0.0  2023-02-24 07:54:36+00:00\n",
       "\n",
       "[42990 rows x 5 columns]"
      ]
     },
     "execution_count": 27,
     "metadata": {},
     "output_type": "execute_result"
    }
   ],
   "source": [
    "new_df = pd.read_csv('newdata.csv',delimiter=',',usecols=['temperature', 'humidity', 'P1', 'P2', 'timestamp_new'])\n",
    "\n",
    "new_df "
   ]
  },
  {
   "cell_type": "markdown",
   "metadata": {
    "id": "fh5va_ODJMn6"
   },
   "source": [
    "**Question E6:** Replace the missing values in collumns 'value_P1' and 'value_P2' with the mean of the same collumns"
   ]
  },
  {
   "cell_type": "code",
   "execution_count": 28,
   "metadata": {
    "id": "RAm29MW0JMn7",
    "tags": []
   },
   "outputs": [
    {
     "data": {
      "text/plain": [
       "temperature      32244\n",
       "humidity         32244\n",
       "P1               32241\n",
       "P2               32241\n",
       "timestamp_new        0\n",
       "dtype: int64"
      ]
     },
     "execution_count": 28,
     "metadata": {},
     "output_type": "execute_result"
    }
   ],
   "source": [
    "#Check for missing values \n",
    "missing_values = new_df.isnull().sum()\n",
    "\n",
    "# displaying data only with NaN\n",
    "missing_values"
   ]
  },
  {
   "cell_type": "code",
   "execution_count": 29,
   "metadata": {},
   "outputs": [],
   "source": [
    "new_df['temperature'] = new_df['temperature'].fillna(new_df['temperature'].mean())\n",
    "new_df['humidity'] = new_df['humidity'].fillna(new_df['humidity'].mean())"
   ]
  },
  {
   "cell_type": "code",
   "execution_count": 30,
   "metadata": {
    "id": "JJ2zFruYJMn7",
    "tags": []
   },
   "outputs": [
    {
     "data": {
      "text/html": [
       "<div>\n",
       "<style scoped>\n",
       "    .dataframe tbody tr th:only-of-type {\n",
       "        vertical-align: middle;\n",
       "    }\n",
       "\n",
       "    .dataframe tbody tr th {\n",
       "        vertical-align: top;\n",
       "    }\n",
       "\n",
       "    .dataframe thead th {\n",
       "        text-align: right;\n",
       "    }\n",
       "</style>\n",
       "<table border=\"1\" class=\"dataframe\">\n",
       "  <thead>\n",
       "    <tr style=\"text-align: right;\">\n",
       "      <th></th>\n",
       "      <th>temperature</th>\n",
       "      <th>humidity</th>\n",
       "      <th>P1</th>\n",
       "      <th>P2</th>\n",
       "      <th>timestamp_new</th>\n",
       "    </tr>\n",
       "  </thead>\n",
       "  <tbody>\n",
       "    <tr>\n",
       "      <th>0</th>\n",
       "      <td>12.000000</td>\n",
       "      <td>64.311092</td>\n",
       "      <td>28.508605</td>\n",
       "      <td>11.301423</td>\n",
       "      <td>2023-02-04 04:22:51+00:00</td>\n",
       "    </tr>\n",
       "    <tr>\n",
       "      <th>1</th>\n",
       "      <td>11.000000</td>\n",
       "      <td>64.311092</td>\n",
       "      <td>28.508605</td>\n",
       "      <td>11.301423</td>\n",
       "      <td>2023-02-04 04:25:32+00:00</td>\n",
       "    </tr>\n",
       "    <tr>\n",
       "      <th>2</th>\n",
       "      <td>12.000000</td>\n",
       "      <td>64.311092</td>\n",
       "      <td>28.508605</td>\n",
       "      <td>11.301423</td>\n",
       "      <td>2023-02-04 04:28:13+00:00</td>\n",
       "    </tr>\n",
       "    <tr>\n",
       "      <th>3</th>\n",
       "      <td>12.000000</td>\n",
       "      <td>64.311092</td>\n",
       "      <td>28.508605</td>\n",
       "      <td>11.301423</td>\n",
       "      <td>2023-02-04 04:30:52+00:00</td>\n",
       "    </tr>\n",
       "    <tr>\n",
       "      <th>4</th>\n",
       "      <td>12.000000</td>\n",
       "      <td>64.311092</td>\n",
       "      <td>28.508605</td>\n",
       "      <td>11.301423</td>\n",
       "      <td>2023-02-04 04:33:33+00:00</td>\n",
       "    </tr>\n",
       "    <tr>\n",
       "      <th>...</th>\n",
       "      <td>...</td>\n",
       "      <td>...</td>\n",
       "      <td>...</td>\n",
       "      <td>...</td>\n",
       "      <td>...</td>\n",
       "    </tr>\n",
       "    <tr>\n",
       "      <th>42985</th>\n",
       "      <td>22.352875</td>\n",
       "      <td>64.311092</td>\n",
       "      <td>28.508605</td>\n",
       "      <td>0.000000</td>\n",
       "      <td>2023-02-24 07:43:55+00:00</td>\n",
       "    </tr>\n",
       "    <tr>\n",
       "      <th>42986</th>\n",
       "      <td>22.352875</td>\n",
       "      <td>64.311092</td>\n",
       "      <td>28.508605</td>\n",
       "      <td>7.000000</td>\n",
       "      <td>2023-02-24 07:46:35+00:00</td>\n",
       "    </tr>\n",
       "    <tr>\n",
       "      <th>42987</th>\n",
       "      <td>22.352875</td>\n",
       "      <td>64.311092</td>\n",
       "      <td>28.508605</td>\n",
       "      <td>1.000000</td>\n",
       "      <td>2023-02-24 07:49:16+00:00</td>\n",
       "    </tr>\n",
       "    <tr>\n",
       "      <th>42988</th>\n",
       "      <td>22.352875</td>\n",
       "      <td>64.311092</td>\n",
       "      <td>28.508605</td>\n",
       "      <td>0.000000</td>\n",
       "      <td>2023-02-24 07:51:56+00:00</td>\n",
       "    </tr>\n",
       "    <tr>\n",
       "      <th>42989</th>\n",
       "      <td>22.352875</td>\n",
       "      <td>64.311092</td>\n",
       "      <td>28.508605</td>\n",
       "      <td>0.000000</td>\n",
       "      <td>2023-02-24 07:54:36+00:00</td>\n",
       "    </tr>\n",
       "  </tbody>\n",
       "</table>\n",
       "<p>42990 rows × 5 columns</p>\n",
       "</div>"
      ],
      "text/plain": [
       "       temperature   humidity         P1         P2              timestamp_new\n",
       "0        12.000000  64.311092  28.508605  11.301423  2023-02-04 04:22:51+00:00\n",
       "1        11.000000  64.311092  28.508605  11.301423  2023-02-04 04:25:32+00:00\n",
       "2        12.000000  64.311092  28.508605  11.301423  2023-02-04 04:28:13+00:00\n",
       "3        12.000000  64.311092  28.508605  11.301423  2023-02-04 04:30:52+00:00\n",
       "4        12.000000  64.311092  28.508605  11.301423  2023-02-04 04:33:33+00:00\n",
       "...            ...        ...        ...        ...                        ...\n",
       "42985    22.352875  64.311092  28.508605   0.000000  2023-02-24 07:43:55+00:00\n",
       "42986    22.352875  64.311092  28.508605   7.000000  2023-02-24 07:46:35+00:00\n",
       "42987    22.352875  64.311092  28.508605   1.000000  2023-02-24 07:49:16+00:00\n",
       "42988    22.352875  64.311092  28.508605   0.000000  2023-02-24 07:51:56+00:00\n",
       "42989    22.352875  64.311092  28.508605   0.000000  2023-02-24 07:54:36+00:00\n",
       "\n",
       "[42990 rows x 5 columns]"
      ]
     },
     "execution_count": 30,
     "metadata": {},
     "output_type": "execute_result"
    }
   ],
   "source": [
    "#print(\"The mean of P1\",new_df['value_P2'].mean())\n",
    "#print(\"The mean of P2\",new_df['value_P1'].mean())\n",
    "\n",
    "#replace missing values with the mean \n",
    "# replace missing values in 'value_P1' and 'value_P2' with mean of those columns\n",
    "new_df['P1'] = new_df['P1'].fillna(new_df['P1'].mean())\n",
    "new_df['P2'] = new_df['P2'].fillna(new_df['P2'].mean())\n",
    "new_df"
   ]
  },
  {
   "cell_type": "markdown",
   "metadata": {
    "id": "syjHmz-AJMn7"
   },
   "source": [
    "**Question E7:** Compute the correlations between temperature and humidity; P1 and P2 "
   ]
  },
  {
   "cell_type": "code",
   "execution_count": 31,
   "metadata": {
    "id": "agvSVKsEJMn7",
    "tags": []
   },
   "outputs": [
    {
     "name": "stdout",
     "output_type": "stream",
     "text": [
      "Correlation between temparature and humidity -3.409556407756375e-30\n",
      "Correlation between P1 and P2 4.1736972597761743e-32\n"
     ]
    }
   ],
   "source": [
    "#Correlation between temperature and humidity\n",
    "corr_temp_hum = new_df['temperature'].corr(new_df['humidity'])\n",
    "\n",
    "print (\"Correlation between temparature and humidity\",corr_temp_hum)\n",
    "\n",
    "#Correlation between P1 and P2\n",
    "corr_p1_p2 = new_df['P1'].corr(new_df['P2'])\n",
    "\n",
    "print (\"Correlation between P1 and P2\",corr_p1_p2)"
   ]
  },
  {
   "cell_type": "markdown",
   "metadata": {
    "id": "bIy00VyKJMn7"
   },
   "source": [
    "**Question E8:** Create a new dataframe comprising of the average values of the variables by day"
   ]
  },
  {
   "cell_type": "code",
   "execution_count": 32,
   "metadata": {
    "id": "qb_G74GPJMn7",
    "tags": []
   },
   "outputs": [
    {
     "data": {
      "text/html": [
       "<div>\n",
       "<style scoped>\n",
       "    .dataframe tbody tr th:only-of-type {\n",
       "        vertical-align: middle;\n",
       "    }\n",
       "\n",
       "    .dataframe tbody tr th {\n",
       "        vertical-align: top;\n",
       "    }\n",
       "\n",
       "    .dataframe thead th {\n",
       "        text-align: right;\n",
       "    }\n",
       "</style>\n",
       "<table border=\"1\" class=\"dataframe\">\n",
       "  <thead>\n",
       "    <tr style=\"text-align: right;\">\n",
       "      <th></th>\n",
       "      <th>timestamp_new</th>\n",
       "      <th>temperature</th>\n",
       "      <th>humidity</th>\n",
       "      <th>P1</th>\n",
       "      <th>P2</th>\n",
       "    </tr>\n",
       "  </thead>\n",
       "  <tbody>\n",
       "    <tr>\n",
       "      <th>0</th>\n",
       "      <td>2023-02-04</td>\n",
       "      <td>22.843277</td>\n",
       "      <td>61.681283</td>\n",
       "      <td>26.707812</td>\n",
       "      <td>10.169506</td>\n",
       "    </tr>\n",
       "    <tr>\n",
       "      <th>1</th>\n",
       "      <td>2023-02-05</td>\n",
       "      <td>22.209101</td>\n",
       "      <td>64.100449</td>\n",
       "      <td>26.083306</td>\n",
       "      <td>10.039031</td>\n",
       "    </tr>\n",
       "    <tr>\n",
       "      <th>2</th>\n",
       "      <td>2023-02-06</td>\n",
       "      <td>22.353710</td>\n",
       "      <td>63.420240</td>\n",
       "      <td>27.394441</td>\n",
       "      <td>10.764565</td>\n",
       "    </tr>\n",
       "    <tr>\n",
       "      <th>3</th>\n",
       "      <td>2023-02-07</td>\n",
       "      <td>22.417152</td>\n",
       "      <td>64.653375</td>\n",
       "      <td>26.586630</td>\n",
       "      <td>10.509801</td>\n",
       "    </tr>\n",
       "    <tr>\n",
       "      <th>4</th>\n",
       "      <td>2023-02-08</td>\n",
       "      <td>22.276716</td>\n",
       "      <td>65.974971</td>\n",
       "      <td>29.060489</td>\n",
       "      <td>12.001578</td>\n",
       "    </tr>\n",
       "    <tr>\n",
       "      <th>5</th>\n",
       "      <td>2023-02-09</td>\n",
       "      <td>22.198453</td>\n",
       "      <td>66.109708</td>\n",
       "      <td>28.824047</td>\n",
       "      <td>12.067271</td>\n",
       "    </tr>\n",
       "    <tr>\n",
       "      <th>6</th>\n",
       "      <td>2023-02-10</td>\n",
       "      <td>22.382708</td>\n",
       "      <td>64.133462</td>\n",
       "      <td>28.259661</td>\n",
       "      <td>11.368131</td>\n",
       "    </tr>\n",
       "    <tr>\n",
       "      <th>7</th>\n",
       "      <td>2023-02-11</td>\n",
       "      <td>22.323453</td>\n",
       "      <td>64.930079</td>\n",
       "      <td>28.333306</td>\n",
       "      <td>11.434864</td>\n",
       "    </tr>\n",
       "    <tr>\n",
       "      <th>8</th>\n",
       "      <td>2023-02-12</td>\n",
       "      <td>22.265588</td>\n",
       "      <td>63.289651</td>\n",
       "      <td>27.176147</td>\n",
       "      <td>10.546831</td>\n",
       "    </tr>\n",
       "    <tr>\n",
       "      <th>9</th>\n",
       "      <td>2023-02-13</td>\n",
       "      <td>22.193945</td>\n",
       "      <td>62.323192</td>\n",
       "      <td>32.721783</td>\n",
       "      <td>12.600611</td>\n",
       "    </tr>\n",
       "    <tr>\n",
       "      <th>10</th>\n",
       "      <td>2023-02-14</td>\n",
       "      <td>22.486827</td>\n",
       "      <td>64.257902</td>\n",
       "      <td>32.143050</td>\n",
       "      <td>12.533581</td>\n",
       "    </tr>\n",
       "    <tr>\n",
       "      <th>11</th>\n",
       "      <td>2023-02-15</td>\n",
       "      <td>22.505432</td>\n",
       "      <td>64.879076</td>\n",
       "      <td>31.022598</td>\n",
       "      <td>12.706695</td>\n",
       "    </tr>\n",
       "    <tr>\n",
       "      <th>12</th>\n",
       "      <td>2023-02-16</td>\n",
       "      <td>22.566764</td>\n",
       "      <td>65.077369</td>\n",
       "      <td>30.960877</td>\n",
       "      <td>12.310001</td>\n",
       "    </tr>\n",
       "    <tr>\n",
       "      <th>13</th>\n",
       "      <td>2023-02-17</td>\n",
       "      <td>22.445212</td>\n",
       "      <td>63.945819</td>\n",
       "      <td>29.224047</td>\n",
       "      <td>11.544586</td>\n",
       "    </tr>\n",
       "    <tr>\n",
       "      <th>14</th>\n",
       "      <td>2023-02-18</td>\n",
       "      <td>22.354471</td>\n",
       "      <td>64.277764</td>\n",
       "      <td>30.348121</td>\n",
       "      <td>11.897364</td>\n",
       "    </tr>\n",
       "    <tr>\n",
       "      <th>15</th>\n",
       "      <td>2023-02-19</td>\n",
       "      <td>21.310731</td>\n",
       "      <td>68.175813</td>\n",
       "      <td>28.707754</td>\n",
       "      <td>11.763687</td>\n",
       "    </tr>\n",
       "    <tr>\n",
       "      <th>16</th>\n",
       "      <td>2023-02-20</td>\n",
       "      <td>22.451700</td>\n",
       "      <td>63.621549</td>\n",
       "      <td>28.987294</td>\n",
       "      <td>11.591031</td>\n",
       "    </tr>\n",
       "    <tr>\n",
       "      <th>17</th>\n",
       "      <td>2023-02-21</td>\n",
       "      <td>22.387583</td>\n",
       "      <td>63.204831</td>\n",
       "      <td>29.978347</td>\n",
       "      <td>11.738692</td>\n",
       "    </tr>\n",
       "    <tr>\n",
       "      <th>18</th>\n",
       "      <td>2023-02-22</td>\n",
       "      <td>22.631844</td>\n",
       "      <td>63.629919</td>\n",
       "      <td>28.102042</td>\n",
       "      <td>10.733880</td>\n",
       "    </tr>\n",
       "    <tr>\n",
       "      <th>19</th>\n",
       "      <td>2023-02-23</td>\n",
       "      <td>22.666690</td>\n",
       "      <td>63.470380</td>\n",
       "      <td>21.466944</td>\n",
       "      <td>8.507953</td>\n",
       "    </tr>\n",
       "    <tr>\n",
       "      <th>20</th>\n",
       "      <td>2023-02-24</td>\n",
       "      <td>20.924769</td>\n",
       "      <td>70.063376</td>\n",
       "      <td>21.509263</td>\n",
       "      <td>8.565955</td>\n",
       "    </tr>\n",
       "  </tbody>\n",
       "</table>\n",
       "</div>"
      ],
      "text/plain": [
       "   timestamp_new  temperature   humidity         P1         P2\n",
       "0     2023-02-04    22.843277  61.681283  26.707812  10.169506\n",
       "1     2023-02-05    22.209101  64.100449  26.083306  10.039031\n",
       "2     2023-02-06    22.353710  63.420240  27.394441  10.764565\n",
       "3     2023-02-07    22.417152  64.653375  26.586630  10.509801\n",
       "4     2023-02-08    22.276716  65.974971  29.060489  12.001578\n",
       "5     2023-02-09    22.198453  66.109708  28.824047  12.067271\n",
       "6     2023-02-10    22.382708  64.133462  28.259661  11.368131\n",
       "7     2023-02-11    22.323453  64.930079  28.333306  11.434864\n",
       "8     2023-02-12    22.265588  63.289651  27.176147  10.546831\n",
       "9     2023-02-13    22.193945  62.323192  32.721783  12.600611\n",
       "10    2023-02-14    22.486827  64.257902  32.143050  12.533581\n",
       "11    2023-02-15    22.505432  64.879076  31.022598  12.706695\n",
       "12    2023-02-16    22.566764  65.077369  30.960877  12.310001\n",
       "13    2023-02-17    22.445212  63.945819  29.224047  11.544586\n",
       "14    2023-02-18    22.354471  64.277764  30.348121  11.897364\n",
       "15    2023-02-19    21.310731  68.175813  28.707754  11.763687\n",
       "16    2023-02-20    22.451700  63.621549  28.987294  11.591031\n",
       "17    2023-02-21    22.387583  63.204831  29.978347  11.738692\n",
       "18    2023-02-22    22.631844  63.629919  28.102042  10.733880\n",
       "19    2023-02-23    22.666690  63.470380  21.466944   8.507953\n",
       "20    2023-02-24    20.924769  70.063376  21.509263   8.565955"
      ]
     },
     "execution_count": 32,
     "metadata": {},
     "output_type": "execute_result"
    }
   ],
   "source": [
    "# convert timestamp column to datetime type\n",
    "new_df['timestamp_new'] = pd.to_datetime(new_df['timestamp_new'])\n",
    "means_feb = new_df.groupby(new_df['timestamp_new'].dt.date).mean().reset_index()\n",
    "means_feb"
   ]
  },
  {
   "cell_type": "markdown",
   "metadata": {
    "id": "jXrFVTUPJMn7"
   },
   "source": [
    "**Question E9:** Download the dataset \"Nakuru Sensor Data for November 2021 from https://open.africa/dataset/sensorsafrica-airquality-archive-nakuru/resource/1f11351e-156b-4e4c-a063-b86a6ee07c4a\"\n",
    "\n",
    "Load the data into a pandas dataframe and develop a dataframe similar to what you have just done in Question no's 6 - 13 above"
   ]
  },
  {
   "cell_type": "code",
   "execution_count": 33,
   "metadata": {
    "id": "ooqx8xuoJMn7",
    "tags": []
   },
   "outputs": [
    {
     "data": {
      "text/html": [
       "<div>\n",
       "<style scoped>\n",
       "    .dataframe tbody tr th:only-of-type {\n",
       "        vertical-align: middle;\n",
       "    }\n",
       "\n",
       "    .dataframe tbody tr th {\n",
       "        vertical-align: top;\n",
       "    }\n",
       "\n",
       "    .dataframe thead th {\n",
       "        text-align: right;\n",
       "    }\n",
       "</style>\n",
       "<table border=\"1\" class=\"dataframe\">\n",
       "  <thead>\n",
       "    <tr style=\"text-align: right;\">\n",
       "      <th></th>\n",
       "      <th>timestamp</th>\n",
       "      <th>temperature</th>\n",
       "      <th>humidity</th>\n",
       "      <th>P1</th>\n",
       "      <th>P2</th>\n",
       "    </tr>\n",
       "  </thead>\n",
       "  <tbody>\n",
       "    <tr>\n",
       "      <th>0</th>\n",
       "      <td>2021-11-08</td>\n",
       "      <td>20.640328</td>\n",
       "      <td>69.605882</td>\n",
       "      <td>20.016328</td>\n",
       "      <td>10.949917</td>\n",
       "    </tr>\n",
       "    <tr>\n",
       "      <th>1</th>\n",
       "      <td>2021-11-09</td>\n",
       "      <td>20.133405</td>\n",
       "      <td>72.656973</td>\n",
       "      <td>20.512749</td>\n",
       "      <td>11.444472</td>\n",
       "    </tr>\n",
       "    <tr>\n",
       "      <th>2</th>\n",
       "      <td>2021-11-10</td>\n",
       "      <td>19.778418</td>\n",
       "      <td>74.222526</td>\n",
       "      <td>20.292340</td>\n",
       "      <td>11.501434</td>\n",
       "    </tr>\n",
       "    <tr>\n",
       "      <th>3</th>\n",
       "      <td>2021-11-11</td>\n",
       "      <td>19.621594</td>\n",
       "      <td>74.471147</td>\n",
       "      <td>21.737717</td>\n",
       "      <td>12.116787</td>\n",
       "    </tr>\n",
       "    <tr>\n",
       "      <th>4</th>\n",
       "      <td>2021-11-12</td>\n",
       "      <td>20.338954</td>\n",
       "      <td>70.675762</td>\n",
       "      <td>20.094755</td>\n",
       "      <td>11.218892</td>\n",
       "    </tr>\n",
       "    <tr>\n",
       "      <th>5</th>\n",
       "      <td>2021-11-13</td>\n",
       "      <td>20.080101</td>\n",
       "      <td>72.050882</td>\n",
       "      <td>19.953032</td>\n",
       "      <td>11.065031</td>\n",
       "    </tr>\n",
       "    <tr>\n",
       "      <th>6</th>\n",
       "      <td>2021-11-14</td>\n",
       "      <td>20.178849</td>\n",
       "      <td>71.391504</td>\n",
       "      <td>19.364275</td>\n",
       "      <td>10.855727</td>\n",
       "    </tr>\n",
       "    <tr>\n",
       "      <th>7</th>\n",
       "      <td>2021-11-15</td>\n",
       "      <td>19.897974</td>\n",
       "      <td>72.721567</td>\n",
       "      <td>20.346308</td>\n",
       "      <td>11.361189</td>\n",
       "    </tr>\n",
       "    <tr>\n",
       "      <th>8</th>\n",
       "      <td>2021-11-16</td>\n",
       "      <td>19.164905</td>\n",
       "      <td>76.828369</td>\n",
       "      <td>21.907009</td>\n",
       "      <td>12.433374</td>\n",
       "    </tr>\n",
       "    <tr>\n",
       "      <th>9</th>\n",
       "      <td>2021-11-17</td>\n",
       "      <td>20.171919</td>\n",
       "      <td>71.399519</td>\n",
       "      <td>21.067123</td>\n",
       "      <td>12.030485</td>\n",
       "    </tr>\n",
       "    <tr>\n",
       "      <th>10</th>\n",
       "      <td>2021-11-18</td>\n",
       "      <td>20.133746</td>\n",
       "      <td>71.166897</td>\n",
       "      <td>20.400512</td>\n",
       "      <td>11.314981</td>\n",
       "    </tr>\n",
       "    <tr>\n",
       "      <th>11</th>\n",
       "      <td>2021-11-19</td>\n",
       "      <td>19.887712</td>\n",
       "      <td>73.204509</td>\n",
       "      <td>22.150040</td>\n",
       "      <td>12.095274</td>\n",
       "    </tr>\n",
       "    <tr>\n",
       "      <th>12</th>\n",
       "      <td>2021-11-20</td>\n",
       "      <td>20.033385</td>\n",
       "      <td>73.346824</td>\n",
       "      <td>41.703406</td>\n",
       "      <td>25.564529</td>\n",
       "    </tr>\n",
       "    <tr>\n",
       "      <th>13</th>\n",
       "      <td>2021-11-21</td>\n",
       "      <td>19.902374</td>\n",
       "      <td>73.905428</td>\n",
       "      <td>20.916214</td>\n",
       "      <td>11.820031</td>\n",
       "    </tr>\n",
       "    <tr>\n",
       "      <th>14</th>\n",
       "      <td>2021-11-22</td>\n",
       "      <td>20.290555</td>\n",
       "      <td>69.938610</td>\n",
       "      <td>19.689851</td>\n",
       "      <td>10.963667</td>\n",
       "    </tr>\n",
       "    <tr>\n",
       "      <th>15</th>\n",
       "      <td>2021-11-23</td>\n",
       "      <td>19.436098</td>\n",
       "      <td>72.654241</td>\n",
       "      <td>21.660709</td>\n",
       "      <td>11.716205</td>\n",
       "    </tr>\n",
       "    <tr>\n",
       "      <th>16</th>\n",
       "      <td>2021-11-24</td>\n",
       "      <td>20.141946</td>\n",
       "      <td>71.397514</td>\n",
       "      <td>22.001519</td>\n",
       "      <td>11.566694</td>\n",
       "    </tr>\n",
       "    <tr>\n",
       "      <th>17</th>\n",
       "      <td>2021-11-25</td>\n",
       "      <td>19.527999</td>\n",
       "      <td>75.921215</td>\n",
       "      <td>22.279094</td>\n",
       "      <td>12.675171</td>\n",
       "    </tr>\n",
       "    <tr>\n",
       "      <th>18</th>\n",
       "      <td>2021-11-26</td>\n",
       "      <td>20.031010</td>\n",
       "      <td>74.864973</td>\n",
       "      <td>22.069851</td>\n",
       "      <td>12.696394</td>\n",
       "    </tr>\n",
       "    <tr>\n",
       "      <th>19</th>\n",
       "      <td>2021-11-27</td>\n",
       "      <td>20.100451</td>\n",
       "      <td>74.080449</td>\n",
       "      <td>20.736895</td>\n",
       "      <td>11.794503</td>\n",
       "    </tr>\n",
       "    <tr>\n",
       "      <th>20</th>\n",
       "      <td>2021-11-28</td>\n",
       "      <td>19.784431</td>\n",
       "      <td>76.935577</td>\n",
       "      <td>19.131461</td>\n",
       "      <td>10.843501</td>\n",
       "    </tr>\n",
       "    <tr>\n",
       "      <th>21</th>\n",
       "      <td>2021-11-29</td>\n",
       "      <td>19.773085</td>\n",
       "      <td>77.881838</td>\n",
       "      <td>19.671730</td>\n",
       "      <td>11.444375</td>\n",
       "    </tr>\n",
       "    <tr>\n",
       "      <th>22</th>\n",
       "      <td>2021-11-30</td>\n",
       "      <td>19.940436</td>\n",
       "      <td>74.946606</td>\n",
       "      <td>18.222639</td>\n",
       "      <td>10.225009</td>\n",
       "    </tr>\n",
       "  </tbody>\n",
       "</table>\n",
       "</div>"
      ],
      "text/plain": [
       "     timestamp  temperature   humidity         P1         P2\n",
       "0   2021-11-08    20.640328  69.605882  20.016328  10.949917\n",
       "1   2021-11-09    20.133405  72.656973  20.512749  11.444472\n",
       "2   2021-11-10    19.778418  74.222526  20.292340  11.501434\n",
       "3   2021-11-11    19.621594  74.471147  21.737717  12.116787\n",
       "4   2021-11-12    20.338954  70.675762  20.094755  11.218892\n",
       "5   2021-11-13    20.080101  72.050882  19.953032  11.065031\n",
       "6   2021-11-14    20.178849  71.391504  19.364275  10.855727\n",
       "7   2021-11-15    19.897974  72.721567  20.346308  11.361189\n",
       "8   2021-11-16    19.164905  76.828369  21.907009  12.433374\n",
       "9   2021-11-17    20.171919  71.399519  21.067123  12.030485\n",
       "10  2021-11-18    20.133746  71.166897  20.400512  11.314981\n",
       "11  2021-11-19    19.887712  73.204509  22.150040  12.095274\n",
       "12  2021-11-20    20.033385  73.346824  41.703406  25.564529\n",
       "13  2021-11-21    19.902374  73.905428  20.916214  11.820031\n",
       "14  2021-11-22    20.290555  69.938610  19.689851  10.963667\n",
       "15  2021-11-23    19.436098  72.654241  21.660709  11.716205\n",
       "16  2021-11-24    20.141946  71.397514  22.001519  11.566694\n",
       "17  2021-11-25    19.527999  75.921215  22.279094  12.675171\n",
       "18  2021-11-26    20.031010  74.864973  22.069851  12.696394\n",
       "19  2021-11-27    20.100451  74.080449  20.736895  11.794503\n",
       "20  2021-11-28    19.784431  76.935577  19.131461  10.843501\n",
       "21  2021-11-29    19.773085  77.881838  19.671730  11.444375\n",
       "22  2021-11-30    19.940436  74.946606  18.222639  10.225009"
      ]
     },
     "execution_count": 33,
     "metadata": {},
     "output_type": "execute_result"
    }
   ],
   "source": [
    "df = pd.read_csv('november_2021_sensor_data_archive.csv',delimiter=';',usecols=['timestamp','value_type','value'])\n",
    "\n",
    "grouped = df.groupby('value_type')\n",
    "df_temperature = grouped.get_group('temperature')\n",
    "df_humidity = grouped.get_group('humidity')\n",
    "df_P1 = grouped.get_group('P1')\n",
    "df_P2 = grouped.get_group('P2')\n",
    "\n",
    "df_merged = pd.concat([df_temperature['value'], df_humidity['value'], df_P1['value'], df_P2['value'], df['timestamp']], axis=1)\n",
    "\n",
    "# rename columns\n",
    "df_merged.columns = ['temperature', 'humidity', 'P1', 'P2','timestamp']\n",
    "\n",
    "df_merged['temperature'] = df_merged['temperature'].fillna(df_merged['temperature'].mean())\n",
    "df_merged['humidity'] = df_merged['humidity'].fillna(df_merged['humidity'].mean())\n",
    "\n",
    "df_merged['P1'] = df_merged['P1'].fillna(df_merged['P1'].mean())\n",
    "df_merged['P2'] = df_merged['P2'].fillna(df_merged['P2'].mean())\n",
    "\n",
    "df_merged['timestamp'] = pd.to_datetime(df_merged['timestamp'])\n",
    "\n",
    "means_nov = df_merged.groupby(df_merged['timestamp'].dt.date).mean().reset_index()\n",
    "\n",
    "means_nov"
   ]
  },
  {
   "cell_type": "markdown",
   "metadata": {
    "id": "gS7RRkZpnYqa"
   },
   "source": [
    "**Question E10:** Convert the means_feb and means_nov to numpy arrays ... and then compute the average of each collumn\n",
    "\n",
    "Hint: The results are numpy arrays"
   ]
  },
  {
   "cell_type": "code",
   "execution_count": 34,
   "metadata": {
    "id": "hbgK6RQ8nDXw",
    "tags": []
   },
   "outputs": [
    {
     "data": {
      "text/plain": [
       "array([22.29505367, 64.53429555, 28.26656939, 11.209315  ])"
      ]
     },
     "execution_count": 34,
     "metadata": {},
     "output_type": "execute_result"
    }
   ],
   "source": [
    "import numpy as np\n",
    "feb_df = means_feb.set_index('timestamp_new')\n",
    "# compute the average of each column\n",
    "feb_numpy_array = feb_df.to_numpy()\n",
    "feb_average = feb_numpy_array.mean(axis=0)\n",
    "feb_average"
   ]
  },
  {
   "cell_type": "code",
   "execution_count": 35,
   "metadata": {
    "id": "r6-iwnWSoIDE",
    "tags": []
   },
   "outputs": [
    {
     "data": {
      "text/plain": [
       "array([19.95607288, 73.31603532, 21.56198073, 12.16076706])"
      ]
     },
     "execution_count": 35,
     "metadata": {},
     "output_type": "execute_result"
    }
   ],
   "source": [
    "nov_df = means_nov.set_index('timestamp')\n",
    "nov_numpy_array = nov_df.to_numpy()\n",
    "nov_average = nov_numpy_array.mean(axis=0)\n",
    "nov_average"
   ]
  },
  {
   "cell_type": "markdown",
   "metadata": {
    "id": "zc6tiksMqSb0"
   },
   "source": [
    "**Question E11:** Write a function to compute the difference in the average temperature, humidity, P1 and P2 between November 2021 and February 2023\n",
    "\n",
    "Hint: The result is a vector of the form [w,x,y,z]"
   ]
  },
  {
   "cell_type": "code",
   "execution_count": 36,
   "metadata": {
    "id": "AWCrhXpKqPJQ",
    "tags": []
   },
   "outputs": [
    {
     "name": "stdout",
     "output_type": "stream",
     "text": [
      "[2.3389807892862677, -8.781739773085619, 6.704588662594258, -0.9514520519198886]\n"
     ]
    }
   ],
   "source": [
    "def sub(nov_data, feb_data):\n",
    "     # Compute the differences in temperature, humidity, P1, and P2 between the two months\n",
    "    temp_diff = feb_data['temperature'].mean() - nov_data['temperature'].mean()\n",
    "    humidity_diff = feb_data['humidity'].mean() - nov_data['humidity'].mean()\n",
    "    p1_diff = feb_data['P1'].mean() - nov_data['P1'].mean()\n",
    "    p2_diff = feb_data['P2'].mean() - nov_data['P2'].mean()\n",
    "     # Return the differences as a vector\n",
    "    return [temp_diff, humidity_diff, p1_diff, p2_diff]\n",
    " \n",
    "# Print the result of the subtraction\n",
    "difference = sub(means_nov, means_feb)\n",
    "print(difference)"
   ]
  },
  {
   "cell_type": "markdown",
   "metadata": {
    "deletable": false,
    "editable": false
   },
   "source": [
    "## Submission\n",
    "\n",
    "Make sure you have run all cells in your notebook in order before running the cell below, so that all images/graphs appear in the output. The cell below will generate a zip file for you to submit. **Please save before exporting!**\n",
    "\n",
    "Upload the generated zip file to the Google sheet please. Uploading work which is not yours will lead to non admittance."
   ]
  },
  {
   "cell_type": "code",
   "execution_count": null,
   "metadata": {
    "deletable": false,
    "editable": false
   },
   "outputs": [],
   "source": [
    "# Save your notebook first, then run this cell to export your submission.\n",
    "grader.export(run_tests=True)"
   ]
  },
  {
   "cell_type": "markdown",
   "metadata": {},
   "source": [
    " "
   ]
  }
 ],
 "metadata": {
  "colab": {
   "provenance": []
  },
  "kernelspec": {
   "display_name": "Python 3 (ipykernel)",
   "language": "python",
   "name": "python3"
  },
  "language_info": {
   "codemirror_mode": {
    "name": "ipython",
    "version": 3
   },
   "file_extension": ".py",
   "mimetype": "text/x-python",
   "name": "python",
   "nbconvert_exporter": "python",
   "pygments_lexer": "ipython3",
   "version": "3.9.13"
  },
  "otter": {
   "OK_FORMAT": true,
   "tests": {
    "q1": {
     "name": "q1",
     "points": 2,
     "suites": [
      {
       "cases": [
        {
         "code": ">>> # BEGIN TEST CONFIG\n>>> points: 2\n>>> # END TEST CONFIG\n>>> def test_primes(sieve):\n...     assert sieve(30) == ((2, 3, 5, 7, 11, 13, 17, 19, 23, 29), (4, 6, 8, 9, 10, 12, 14, 15, 16, 18, 20, 21, 22, 24, 25, 26, 27, 28, 30))\n>>> test_primes(sieve)  \n",
         "hidden": false,
         "locked": false
        }
       ],
       "scored": true,
       "setup": "",
       "teardown": "",
       "type": "doctest"
      }
     ]
    },
    "q2": {
     "name": "q2",
     "points": null,
     "suites": [
      {
       "cases": [
        {
         "code": ">>> # BEGIN TEST CONFIG\n>>> points: 2\n>>> # END TEST CONFIG\n>>> def test_dictionary(Counter):\n...     assert Counter(paragraph) == {' ': 192, 'e': 89, 'o': 68, 't': 65, 'i': 60, 's': 57, 'a': 48, 'r': 45, 'n': 42, 'l': 35, 'c': 31, 'd': 27, 'f': 26, 'u': 26, '0': 22, 'm': 20, 'y': 19, 'h': 17, 'w': 16, 'g': 14, '3': 13, '.': 12, 'p': 11, 'b': 11, '1': 11, '2': 10, '7': 10, 'k': 9, ',': 7, '4': 5, 'v': 4, '-': 4, '*': 4, '^': 4, 'T': 3, 'x': 3, '5': 3, '6': 3, '8': 3, '’': 3, '(': 3, ')': 3, 'q': 3, 'O': 3, ':': 2, '9': 2, 'S': 2, 'A': 2, '{': 2, '}': 2, '`': 2, 'I': 1, 'V': 1, 'F': 1, '[': 1, ']': 1, 'W': 1, '<': 1, 'N': 1, '>': 1, '“': 1, '”': 1, '‘': 1, 'E': 1, '/': 1, '\\\\': 1}\n",
         "hidden": false,
         "locked": false
        }
       ],
       "scored": true,
       "setup": "",
       "teardown": "",
       "type": "doctest"
      }
     ]
    },
    "q3": {
     "name": "q3",
     "points": null,
     "suites": [
      {
       "cases": [
        {
         "code": ">>> # BEGIN TEST CONFIG\n>>> points: 2\n>>> # END TEST CONFIG\n>>> def test_keyslist():\n...     assert list(dictionary.keys()) == ['T', 'h', 'e', ' ', 'f', 'o', 'l', 'w', 'i', 'n', 'g', 's', 'a', 'm', 'p', 't', 'x', 'I', 'u', 'd', 'r', 'c', 'k', 'y', 'b', '.', ':', '1', '2', '3', '4', '5', '6', '7', '8', '9', 'S', 'V', '’', '0', ',', '(', ')', 'q', 'A', 'v', 'F', '-', '{', '}', 'O', '[', ']', 'W', '<', 'N', '>', '`', '*', '^', '“', '”', '‘', 'E', '/', '\\\\']\n>>> test_keyslist() \n",
         "hidden": false,
         "locked": false
        }
       ],
       "scored": true,
       "setup": "",
       "teardown": "",
       "type": "doctest"
      }
     ]
    },
    "q4": {
     "name": "q4",
     "points": null,
     "suites": [
      {
       "cases": [
        {
         "code": ">>> # BEGIN TEST CONFIG\n>>> points: 2\n>>> # END TEST CONFIG\n>>> def test_valueslist():\n...     assert list(dictionary.values()) == [3, 17, 89, 192, 26, 68, 35, 16, 60, 42, 14, 57, 48, 20, 11, 65, 3, 1, 26, 27, 45, 31, 9, 19, 11, 12, 2, 11, 10, 13, 5, 3, 3, 10, 3, 2, 2, 1, 3, 22, 7, 3, 3, 3, 2, 4, 1, 4, 2, 2, 3, 1, 1, 1, 1, 1, 1, 2, 4, 4, 1, 1, 1, 1, 1, 1]\n",
         "hidden": false,
         "locked": false
        }
       ],
       "scored": true,
       "setup": "",
       "teardown": "",
       "type": "doctest"
      }
     ]
    },
    "q5": {
     "name": "q5",
     "points": null,
     "suites": [
      {
       "cases": [
        {
         "code": ">>> # BEGIN TEST CONFIG\n>>> points: 2\n>>> # END TEST CONFIG\n>>> def test_tuple():\n...     assert final_tuple == (('T', 'h', 'e', ' ', 'f', 'o', 'l', 'w', 'i', 'n', 'g', 's', 'a', 'm', 'p', 't', 'x', 'I', 'u', 'd', 'r', 'c', 'k', 'y', 'b', '.', ':', '1', '2', '3', '4', '5', '6', '7', '8', '9', 'S', 'V', '’', '0', ',', '(', ')', 'q', 'A', 'v', 'F', '-', '{', '}', 'O', '[', ']', 'W', '<', 'N', '>', '`', '*', '^', '“', '”', '‘', 'E', '/', '\\\\'), (3, 17, 89, 192, 26, 68, 35, 16, 60, 42, 14, 57, 48, 20, 11, 65, 3, 1, 26, 27, 45, 31, 9, 19, 11, 12, 2, 11, 10, 13, 5, 3, 3, 10, 3, 2, 2, 1, 3, 22, 7, 3, 3, 3, 2, 4, 1, 4, 2, 2, 3, 1, 1, 1, 1, 1, 1, 2, 4, 4, 1, 1, 1, 1, 1, 1))\n>>> test_tuple() \n",
         "hidden": false,
         "locked": false
        }
       ],
       "scored": true,
       "setup": "",
       "teardown": "",
       "type": "doctest"
      }
     ]
    },
    "q6": {
     "name": "q6",
     "points": 10,
     "suites": [
      {
       "cases": [
        {
         "code": ">>> assert_equal(greatest_common_divisor(10, 15), 5)\n",
         "hidden": false,
         "locked": false
        }
       ],
       "scored": true,
       "setup": "",
       "teardown": "",
       "type": "doctest"
      }
     ]
    },
    "q7": {
     "name": "q7",
     "points": 10,
     "suites": [
      {
       "cases": [
        {
         "code": ">>> assert_equal(get_nearest_farthest((3, 8), [(9, 3), (8,5), (7,6)]), ((7, 6), (9, 3)))\n",
         "hidden": false,
         "locked": false
        }
       ],
       "scored": true,
       "setup": "",
       "teardown": "",
       "type": "doctest"
      }
     ]
    },
    "q8": {
     "name": "q8",
     "points": 5,
     "suites": [
      {
       "cases": [
        {
         "code": ">>> assert_equal(perfectly_divisible(10,2), [0,2,4,6,8,10])\n",
         "hidden": false,
         "locked": false
        }
       ],
       "scored": true,
       "setup": "",
       "teardown": "",
       "type": "doctest"
      }
     ]
    },
    "q9": {
     "name": "q9",
     "points": 4,
     "suites": [
      {
       "cases": [
        {
         "code": ">>> assert_equal(flatten_lists([[2,13,44], [6,7]]), [2, 6, 7, 13, 44])\n",
         "hidden": false,
         "locked": false
        }
       ],
       "scored": true,
       "setup": "",
       "teardown": "",
       "type": "doctest"
      }
     ]
    }
   }
  },
  "varInspector": {
   "cols": {
    "lenName": 16,
    "lenType": 16,
    "lenVar": 40
   },
   "kernels_config": {
    "python": {
     "delete_cmd_postfix": "",
     "delete_cmd_prefix": "del ",
     "library": "var_list.py",
     "varRefreshCmd": "print(var_dic_list())"
    },
    "r": {
     "delete_cmd_postfix": ") ",
     "delete_cmd_prefix": "rm(",
     "library": "var_list.r",
     "varRefreshCmd": "cat(var_dic_list()) "
    }
   },
   "types_to_exclude": [
    "module",
    "function",
    "builtin_function_or_method",
    "instance",
    "_Feature"
   ],
   "window_display": false
  }
 },
 "nbformat": 4,
 "nbformat_minor": 4
}
